{
  "nbformat": 4,
  "nbformat_minor": 0,
  "metadata": {
    "colab": {
      "name": "Iris Classification.ipynb",
      "provenance": [],
      "collapsed_sections": [],
      "authorship_tag": "ABX9TyPR0fLer2x5CgIJzks42jic",
      "include_colab_link": true
    },
    "kernelspec": {
      "name": "python3",
      "display_name": "Python 3"
    },
    "language_info": {
      "name": "python"
    }
  },
  "cells": [
    {
      "cell_type": "markdown",
      "metadata": {
        "id": "view-in-github",
        "colab_type": "text"
      },
      "source": [
        "<a href=\"https://colab.research.google.com/github/fkrabdillah17/JST/blob/main/IrisClassification/Iris_Classification.ipynb\" target=\"_parent\"><img src=\"https://colab.research.google.com/assets/colab-badge.svg\" alt=\"Open In Colab\"/></a>"
      ]
    },
    {
      "cell_type": "code",
      "metadata": {
        "id": "eTy6sreJVH3f"
      },
      "source": [
        "from google.colab import drive\n",
        "drive.mount('/content/drive')"
      ],
      "execution_count": null,
      "outputs": []
    },
    {
      "cell_type": "code",
      "metadata": {
        "id": "jZ-NUDe0Gid3"
      },
      "source": [
        "#import library yang diperlukan\n",
        "import pandas as pd\n",
        "import numpy as np\n",
        "import matplotlib.pyplot as plt\n",
        "import seaborn as sns\n",
        "from sklearn.model_selection import train_test_split\n",
        "from sklearn.tree import DecisionTreeClassifier\n",
        "from sklearn.metrics import confusion_matrix\n",
        "from sklearn.metrics import accuracy_score\n",
        "from sklearn.metrics import log_loss"
      ],
      "execution_count": null,
      "outputs": []
    },
    {
      "cell_type": "code",
      "metadata": {
        "colab": {
          "base_uri": "https://localhost:8080/",
          "height": 204
        },
        "id": "iWSshKLHIjU9",
        "outputId": "05ab7dc4-6d58-4d2f-a152-2bd77d6e4751"
      },
      "source": [
        "#load dataset\n",
        "Data = pd.read_csv('/content/drive/MyDrive/JST-TugasKe-2/IrisClassification/IRIS.csv')\n",
        "Data.head()"
      ],
      "execution_count": null,
      "outputs": [
        {
          "output_type": "execute_result",
          "data": {
            "text/html": [
              "<div>\n",
              "<style scoped>\n",
              "    .dataframe tbody tr th:only-of-type {\n",
              "        vertical-align: middle;\n",
              "    }\n",
              "\n",
              "    .dataframe tbody tr th {\n",
              "        vertical-align: top;\n",
              "    }\n",
              "\n",
              "    .dataframe thead th {\n",
              "        text-align: right;\n",
              "    }\n",
              "</style>\n",
              "<table border=\"1\" class=\"dataframe\">\n",
              "  <thead>\n",
              "    <tr style=\"text-align: right;\">\n",
              "      <th></th>\n",
              "      <th>sepal_length</th>\n",
              "      <th>sepal_width</th>\n",
              "      <th>petal_length</th>\n",
              "      <th>petal_width</th>\n",
              "      <th>species</th>\n",
              "    </tr>\n",
              "  </thead>\n",
              "  <tbody>\n",
              "    <tr>\n",
              "      <th>0</th>\n",
              "      <td>5.1</td>\n",
              "      <td>3.5</td>\n",
              "      <td>1.4</td>\n",
              "      <td>0.2</td>\n",
              "      <td>Iris-setosa</td>\n",
              "    </tr>\n",
              "    <tr>\n",
              "      <th>1</th>\n",
              "      <td>4.9</td>\n",
              "      <td>3.0</td>\n",
              "      <td>1.4</td>\n",
              "      <td>0.2</td>\n",
              "      <td>Iris-setosa</td>\n",
              "    </tr>\n",
              "    <tr>\n",
              "      <th>2</th>\n",
              "      <td>4.7</td>\n",
              "      <td>3.2</td>\n",
              "      <td>1.3</td>\n",
              "      <td>0.2</td>\n",
              "      <td>Iris-setosa</td>\n",
              "    </tr>\n",
              "    <tr>\n",
              "      <th>3</th>\n",
              "      <td>4.6</td>\n",
              "      <td>3.1</td>\n",
              "      <td>1.5</td>\n",
              "      <td>0.2</td>\n",
              "      <td>Iris-setosa</td>\n",
              "    </tr>\n",
              "    <tr>\n",
              "      <th>4</th>\n",
              "      <td>5.0</td>\n",
              "      <td>3.6</td>\n",
              "      <td>1.4</td>\n",
              "      <td>0.2</td>\n",
              "      <td>Iris-setosa</td>\n",
              "    </tr>\n",
              "  </tbody>\n",
              "</table>\n",
              "</div>"
            ],
            "text/plain": [
              "   sepal_length  sepal_width  petal_length  petal_width      species\n",
              "0           5.1          3.5           1.4          0.2  Iris-setosa\n",
              "1           4.9          3.0           1.4          0.2  Iris-setosa\n",
              "2           4.7          3.2           1.3          0.2  Iris-setosa\n",
              "3           4.6          3.1           1.5          0.2  Iris-setosa\n",
              "4           5.0          3.6           1.4          0.2  Iris-setosa"
            ]
          },
          "metadata": {
            "tags": []
          },
          "execution_count": 72
        }
      ]
    },
    {
      "cell_type": "code",
      "metadata": {
        "colab": {
          "base_uri": "https://localhost:8080/",
          "height": 564
        },
        "id": "w4YNe785J2In",
        "outputId": "7857c456-2ae6-4c2d-c40d-cb2debc207ff"
      },
      "source": [
        "#visualisasi fitur dataset\n",
        "sns.FacetGrid(Data, hue=\"species\", size=7) \\\n",
        "   .map(plt.scatter, \"petal_length\", \"petal_width\") \\\n",
        "   .add_legend()\n",
        "\n",
        "#fitur sudah terpisah secara linear"
      ],
      "execution_count": null,
      "outputs": [
        {
          "output_type": "stream",
          "text": [
            "/usr/local/lib/python3.7/dist-packages/seaborn/axisgrid.py:316: UserWarning: The `size` parameter has been renamed to `height`; please update your code.\n",
            "  warnings.warn(msg, UserWarning)\n"
          ],
          "name": "stderr"
        },
        {
          "output_type": "execute_result",
          "data": {
            "text/plain": [
              "<seaborn.axisgrid.FacetGrid at 0x7f9cf91c0a50>"
            ]
          },
          "metadata": {
            "tags": []
          },
          "execution_count": 73
        },
        {
          "output_type": "display_data",
          "data": {
            "image/png": "[encoded data removed]",
            "text/plain": [
              "<Figure size 607.25x504 with 1 Axes>"
            ]
          },
          "metadata": {
            "tags": [],
            "needs_background": "light"
          }
        }
      ]
    },
    {
      "cell_type": "code",
      "metadata": {
        "colab": {
          "base_uri": "https://localhost:8080/",
          "height": 297
        },
        "id": "3hBnHuucKGwG",
        "outputId": "d74d3b78-7139-425d-cf4e-d1e941a72797"
      },
      "source": [
        "#deskripsi dataset\n",
        "Data.describe()"
      ],
      "execution_count": null,
      "outputs": [
        {
          "output_type": "execute_result",
          "data": {
            "text/html": [
              "<div>\n",
              "<style scoped>\n",
              "    .dataframe tbody tr th:only-of-type {\n",
              "        vertical-align: middle;\n",
              "    }\n",
              "\n",
              "    .dataframe tbody tr th {\n",
              "        vertical-align: top;\n",
              "    }\n",
              "\n",
              "    .dataframe thead th {\n",
              "        text-align: right;\n",
              "    }\n",
              "</style>\n",
              "<table border=\"1\" class=\"dataframe\">\n",
              "  <thead>\n",
              "    <tr style=\"text-align: right;\">\n",
              "      <th></th>\n",
              "      <th>sepal_length</th>\n",
              "      <th>sepal_width</th>\n",
              "      <th>petal_length</th>\n",
              "      <th>petal_width</th>\n",
              "    </tr>\n",
              "  </thead>\n",
              "  <tbody>\n",
              "    <tr>\n",
              "      <th>count</th>\n",
              "      <td>150.000000</td>\n",
              "      <td>150.000000</td>\n",
              "      <td>150.000000</td>\n",
              "      <td>150.000000</td>\n",
              "    </tr>\n",
              "    <tr>\n",
              "      <th>mean</th>\n",
              "      <td>5.843333</td>\n",
              "      <td>3.054000</td>\n",
              "      <td>3.758667</td>\n",
              "      <td>1.198667</td>\n",
              "    </tr>\n",
              "    <tr>\n",
              "      <th>std</th>\n",
              "      <td>0.828066</td>\n",
              "      <td>0.433594</td>\n",
              "      <td>1.764420</td>\n",
              "      <td>0.763161</td>\n",
              "    </tr>\n",
              "    <tr>\n",
              "      <th>min</th>\n",
              "      <td>4.300000</td>\n",
              "      <td>2.000000</td>\n",
              "      <td>1.000000</td>\n",
              "      <td>0.100000</td>\n",
              "    </tr>\n",
              "    <tr>\n",
              "      <th>25%</th>\n",
              "      <td>5.100000</td>\n",
              "      <td>2.800000</td>\n",
              "      <td>1.600000</td>\n",
              "      <td>0.300000</td>\n",
              "    </tr>\n",
              "    <tr>\n",
              "      <th>50%</th>\n",
              "      <td>5.800000</td>\n",
              "      <td>3.000000</td>\n",
              "      <td>4.350000</td>\n",
              "      <td>1.300000</td>\n",
              "    </tr>\n",
              "    <tr>\n",
              "      <th>75%</th>\n",
              "      <td>6.400000</td>\n",
              "      <td>3.300000</td>\n",
              "      <td>5.100000</td>\n",
              "      <td>1.800000</td>\n",
              "    </tr>\n",
              "    <tr>\n",
              "      <th>max</th>\n",
              "      <td>7.900000</td>\n",
              "      <td>4.400000</td>\n",
              "      <td>6.900000</td>\n",
              "      <td>2.500000</td>\n",
              "    </tr>\n",
              "  </tbody>\n",
              "</table>\n",
              "</div>"
            ],
            "text/plain": [
              "       sepal_length  sepal_width  petal_length  petal_width\n",
              "count    150.000000   150.000000    150.000000   150.000000\n",
              "mean       5.843333     3.054000      3.758667     1.198667\n",
              "std        0.828066     0.433594      1.764420     0.763161\n",
              "min        4.300000     2.000000      1.000000     0.100000\n",
              "25%        5.100000     2.800000      1.600000     0.300000\n",
              "50%        5.800000     3.000000      4.350000     1.300000\n",
              "75%        6.400000     3.300000      5.100000     1.800000\n",
              "max        7.900000     4.400000      6.900000     2.500000"
            ]
          },
          "metadata": {
            "tags": []
          },
          "execution_count": 74
        }
      ]
    },
    {
      "cell_type": "code",
      "metadata": {
        "colab": {
          "base_uri": "https://localhost:8080/"
        },
        "id": "EyldJoh9Lh0X",
        "outputId": "01bbfaf2-108e-4017-f6a9-8c067e66ee92"
      },
      "source": [
        "#memisahkan data dan label (x dan y)\n",
        "y =  Data.pop('species')\n",
        "X_train, X_test, y_train, y_test = train_test_split(Data, y, test_size=0.33, random_state=42)\n",
        "X_train, X_test, y_train, y_test\n",
        "\n",
        "#X_train(data latih), X_test(data uji), y_train(label latih), y_test(label uji)"
      ],
      "execution_count": null,
      "outputs": [
        {
          "output_type": "execute_result",
          "data": {
            "text/plain": [
              "(     sepal_length  sepal_width  petal_length  petal_width\n",
              " 96            5.7          2.9           4.2          1.3\n",
              " 105           7.6          3.0           6.6          2.1\n",
              " 66            5.6          3.0           4.5          1.5\n",
              " 0             5.1          3.5           1.4          0.2\n",
              " 122           7.7          2.8           6.7          2.0\n",
              " ..            ...          ...           ...          ...\n",
              " 71            6.1          2.8           4.0          1.3\n",
              " 106           4.9          2.5           4.5          1.7\n",
              " 14            5.8          4.0           1.2          0.2\n",
              " 92            5.8          2.6           4.0          1.2\n",
              " 102           7.1          3.0           5.9          2.1\n",
              " \n",
              " [100 rows x 4 columns],\n",
              "      sepal_length  sepal_width  petal_length  petal_width\n",
              " 73            6.1          2.8           4.7          1.2\n",
              " 18            5.7          3.8           1.7          0.3\n",
              " 118           7.7          2.6           6.9          2.3\n",
              " 78            6.0          2.9           4.5          1.5\n",
              " 76            6.8          2.8           4.8          1.4\n",
              " 31            5.4          3.4           1.5          0.4\n",
              " 64            5.6          2.9           3.6          1.3\n",
              " 141           6.9          3.1           5.1          2.3\n",
              " 68            6.2          2.2           4.5          1.5\n",
              " 82            5.8          2.7           3.9          1.2\n",
              " 110           6.5          3.2           5.1          2.0\n",
              " 12            4.8          3.0           1.4          0.1\n",
              " 36            5.5          3.5           1.3          0.2\n",
              " 9             4.9          3.1           1.5          0.1\n",
              " 19            5.1          3.8           1.5          0.3\n",
              " 56            6.3          3.3           4.7          1.6\n",
              " 104           6.5          3.0           5.8          2.2\n",
              " 69            5.6          2.5           3.9          1.1\n",
              " 55            5.7          2.8           4.5          1.3\n",
              " 132           6.4          2.8           5.6          2.2\n",
              " 29            4.7          3.2           1.6          0.2\n",
              " 127           6.1          3.0           4.9          1.8\n",
              " 26            5.0          3.4           1.6          0.4\n",
              " 128           6.4          2.8           5.6          2.1\n",
              " 131           7.9          3.8           6.4          2.0\n",
              " 145           6.7          3.0           5.2          2.3\n",
              " 108           6.7          2.5           5.8          1.8\n",
              " 143           6.8          3.2           5.9          2.3\n",
              " 45            4.8          3.0           1.4          0.3\n",
              " 30            4.8          3.1           1.6          0.2\n",
              " 22            4.6          3.6           1.0          0.2\n",
              " 15            5.7          4.4           1.5          0.4\n",
              " 65            6.7          3.1           4.4          1.4\n",
              " 11            4.8          3.4           1.6          0.2\n",
              " 42            4.4          3.2           1.3          0.2\n",
              " 146           6.3          2.5           5.0          1.9\n",
              " 51            6.4          3.2           4.5          1.5\n",
              " 27            5.2          3.5           1.5          0.2\n",
              " 4             5.0          3.6           1.4          0.2\n",
              " 32            5.2          4.1           1.5          0.1\n",
              " 142           5.8          2.7           5.1          1.9\n",
              " 85            6.0          3.4           4.5          1.6\n",
              " 86            6.7          3.1           4.7          1.5\n",
              " 16            5.4          3.9           1.3          0.4\n",
              " 10            5.4          3.7           1.5          0.2\n",
              " 81            5.5          2.4           3.7          1.0\n",
              " 133           6.3          2.8           5.1          1.5\n",
              " 137           6.4          3.1           5.5          1.8\n",
              " 75            6.6          3.0           4.4          1.4\n",
              " 109           7.2          3.6           6.1          2.5,\n",
              " 96     Iris-versicolor\n",
              " 105     Iris-virginica\n",
              " 66     Iris-versicolor\n",
              " 0          Iris-setosa\n",
              " 122     Iris-virginica\n",
              "             ...       \n",
              " 71     Iris-versicolor\n",
              " 106     Iris-virginica\n",
              " 14         Iris-setosa\n",
              " 92     Iris-versicolor\n",
              " 102     Iris-virginica\n",
              " Name: species, Length: 100, dtype: object,\n",
              " 73     Iris-versicolor\n",
              " 18         Iris-setosa\n",
              " 118     Iris-virginica\n",
              " 78     Iris-versicolor\n",
              " 76     Iris-versicolor\n",
              " 31         Iris-setosa\n",
              " 64     Iris-versicolor\n",
              " 141     Iris-virginica\n",
              " 68     Iris-versicolor\n",
              " 82     Iris-versicolor\n",
              " 110     Iris-virginica\n",
              " 12         Iris-setosa\n",
              " 36         Iris-setosa\n",
              " 9          Iris-setosa\n",
              " 19         Iris-setosa\n",
              " 56     Iris-versicolor\n",
              " 104     Iris-virginica\n",
              " 69     Iris-versicolor\n",
              " 55     Iris-versicolor\n",
              " 132     Iris-virginica\n",
              " 29         Iris-setosa\n",
              " 127     Iris-virginica\n",
              " 26         Iris-setosa\n",
              " 128     Iris-virginica\n",
              " 131     Iris-virginica\n",
              " 145     Iris-virginica\n",
              " 108     Iris-virginica\n",
              " 143     Iris-virginica\n",
              " 45         Iris-setosa\n",
              " 30         Iris-setosa\n",
              " 22         Iris-setosa\n",
              " 15         Iris-setosa\n",
              " 65     Iris-versicolor\n",
              " 11         Iris-setosa\n",
              " 42         Iris-setosa\n",
              " 146     Iris-virginica\n",
              " 51     Iris-versicolor\n",
              " 27         Iris-setosa\n",
              " 4          Iris-setosa\n",
              " 32         Iris-setosa\n",
              " 142     Iris-virginica\n",
              " 85     Iris-versicolor\n",
              " 86     Iris-versicolor\n",
              " 16         Iris-setosa\n",
              " 10         Iris-setosa\n",
              " 81     Iris-versicolor\n",
              " 133     Iris-virginica\n",
              " 137     Iris-virginica\n",
              " 75     Iris-versicolor\n",
              " 109     Iris-virginica\n",
              " Name: species, dtype: object)"
            ]
          },
          "metadata": {
            "tags": []
          },
          "execution_count": 75
        }
      ]
    },
    {
      "cell_type": "code",
      "metadata": {
        "colab": {
          "base_uri": "https://localhost:8080/",
          "height": 215
        },
        "id": "SbXqzE-GP8kw",
        "outputId": "30c70f2a-0743-4598-bafa-221d20a91db4"
      },
      "source": [
        "#Melatih model, model menggunakan DecisionTreeClassifier\n",
        "model = DecisionTreeClassifier()\n",
        "model.fit(X_train, y_train)\n",
        "model_url = '/content/drive/MyDrive/JST-TugasKe-2/IrisClassification/IrisModel.h5'\n",
        "model.save(model_url)\n",
        "print('Model Saved')"
      ],
      "execution_count": null,
      "outputs": [
        {
          "output_type": "error",
          "ename": "AttributeError",
          "evalue": "ignored",
          "traceback": [
            "\u001b[0;31m---------------------------------------------------------------------------\u001b[0m",
            "\u001b[0;31mAttributeError\u001b[0m                            Traceback (most recent call last)",
            "\u001b[0;32m<ipython-input-77-317480dd7a3a>\u001b[0m in \u001b[0;36m<module>\u001b[0;34m()\u001b[0m\n\u001b[1;32m      3\u001b[0m \u001b[0mmodel\u001b[0m\u001b[0;34m.\u001b[0m\u001b[0mfit\u001b[0m\u001b[0;34m(\u001b[0m\u001b[0mX_train\u001b[0m\u001b[0;34m,\u001b[0m \u001b[0my_train\u001b[0m\u001b[0;34m)\u001b[0m\u001b[0;34m\u001b[0m\u001b[0;34m\u001b[0m\u001b[0m\n\u001b[1;32m      4\u001b[0m \u001b[0mmodel_url\u001b[0m \u001b[0;34m=\u001b[0m \u001b[0;34m'/content/drive/MyDrive/JST-TugasKe-2/IrisClassification/IrisModel.h5'\u001b[0m\u001b[0;34m\u001b[0m\u001b[0;34m\u001b[0m\u001b[0m\n\u001b[0;32m----> 5\u001b[0;31m \u001b[0mmodel\u001b[0m\u001b[0;34m.\u001b[0m\u001b[0msave\u001b[0m\u001b[0;34m(\u001b[0m\u001b[0mmodel_url\u001b[0m\u001b[0;34m)\u001b[0m\u001b[0;34m\u001b[0m\u001b[0;34m\u001b[0m\u001b[0m\n\u001b[0m\u001b[1;32m      6\u001b[0m \u001b[0mprint\u001b[0m\u001b[0;34m(\u001b[0m\u001b[0;34m'Model Saved'\u001b[0m\u001b[0;34m)\u001b[0m\u001b[0;34m\u001b[0m\u001b[0;34m\u001b[0m\u001b[0m\n",
            "\u001b[0;31mAttributeError\u001b[0m: 'DecisionTreeClassifier' object has no attribute 'save'"
          ]
        }
      ]
    },
    {
      "cell_type": "code",
      "metadata": {
        "colab": {
          "base_uri": "https://localhost:8080/"
        },
        "id": "Zb6GEXVXQUSq",
        "outputId": "11b10306-e621-4d39-e8a3-e487c65b83c9"
      },
      "source": [
        "#predict model\n",
        "Hasil = model.predict(X_test)\n",
        "Hasil"
      ],
      "execution_count": null,
      "outputs": [
        {
          "output_type": "execute_result",
          "data": {
            "text/plain": [
              "array(['Iris-versicolor', 'Iris-setosa', 'Iris-virginica',\n",
              "       'Iris-versicolor', 'Iris-versicolor', 'Iris-setosa',\n",
              "       'Iris-versicolor', 'Iris-virginica', 'Iris-versicolor',\n",
              "       'Iris-versicolor', 'Iris-virginica', 'Iris-setosa', 'Iris-setosa',\n",
              "       'Iris-setosa', 'Iris-setosa', 'Iris-versicolor', 'Iris-virginica',\n",
              "       'Iris-versicolor', 'Iris-versicolor', 'Iris-virginica',\n",
              "       'Iris-setosa', 'Iris-virginica', 'Iris-setosa', 'Iris-virginica',\n",
              "       'Iris-virginica', 'Iris-virginica', 'Iris-virginica',\n",
              "       'Iris-virginica', 'Iris-setosa', 'Iris-setosa', 'Iris-setosa',\n",
              "       'Iris-setosa', 'Iris-versicolor', 'Iris-setosa', 'Iris-setosa',\n",
              "       'Iris-virginica', 'Iris-versicolor', 'Iris-setosa', 'Iris-setosa',\n",
              "       'Iris-setosa', 'Iris-virginica', 'Iris-versicolor',\n",
              "       'Iris-versicolor', 'Iris-setosa', 'Iris-setosa', 'Iris-versicolor',\n",
              "       'Iris-versicolor', 'Iris-virginica', 'Iris-versicolor',\n",
              "       'Iris-virginica'], dtype=object)"
            ]
          },
          "metadata": {
            "tags": []
          },
          "execution_count": 68
        }
      ]
    },
    {
      "cell_type": "code",
      "metadata": {
        "colab": {
          "base_uri": "https://localhost:8080/"
        },
        "id": "_AbJpW9bQs03",
        "outputId": "6ae2c34b-ad6f-4236-e90b-11a99935b757"
      },
      "source": [
        "#evaluasi model\n",
        "print('Accuracy Score : ', accuracy_score(Hasil, y_test) )\n",
        "confusion_matrix(y_test, Hasil)"
      ],
      "execution_count": null,
      "outputs": [
        {
          "output_type": "stream",
          "text": [
            "Accuracy Score :  0.98\n"
          ],
          "name": "stdout"
        },
        {
          "output_type": "execute_result",
          "data": {
            "text/plain": [
              "array([[19,  0,  0],\n",
              "       [ 0, 15,  0],\n",
              "       [ 0,  1, 15]])"
            ]
          },
          "metadata": {
            "tags": []
          },
          "execution_count": 69
        }
      ]
    }
  ]
}